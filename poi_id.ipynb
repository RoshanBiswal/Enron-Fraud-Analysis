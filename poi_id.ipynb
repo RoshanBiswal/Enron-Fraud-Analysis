{
 "cells": [
  {
   "cell_type": "code",
   "execution_count": 1,
   "metadata": {},
   "outputs": [
    {
     "name": "stderr",
     "output_type": "stream",
     "text": [
      "C:\\Users\\user\\Anaconda3\\envs\\py2\\lib\\site-packages\\sklearn\\cross_validation.py:44: DeprecationWarning: This module was deprecated in version 0.18 in favor of the model_selection module into which all the refactored classes and functions are moved. Also note that the interface of the new CV iterators are different from that of this module. This module will be removed in 0.20.\n",
      "  \"This module will be removed in 0.20.\", DeprecationWarning)\n",
      "C:\\Users\\user\\Anaconda3\\envs\\py2\\lib\\site-packages\\sklearn\\grid_search.py:43: DeprecationWarning: This module was deprecated in version 0.18 in favor of the model_selection module into which all the refactored classes and functions are moved. This module will be removed in 0.20.\n",
      "  DeprecationWarning)\n"
     ]
    }
   ],
   "source": [
    "import sys\n",
    "import pickle\n",
    "sys.path.append(\"../tools/\")\n",
    "import numpy as np\n",
    "import pandas as pd\n",
    "from sklearn.preprocessing import Imputer\n",
    "from sklearn.tree import DecisionTreeClassifier\n",
    "from sklearn.ensemble import RandomForestClassifier\n",
    "from sklearn.naive_bayes import GaussianNB\n",
    "import matplotlib.pyplot as plt\n",
    "from sklearn.feature_selection import SelectKBest\n",
    "from sklearn import preprocessing\n",
    "from sklearn.metrics import accuracy_score, precision_score, recall_score\n",
    "from sklearn.grid_search import GridSearchCV\n",
    "from sklearn.cross_validation import train_test_split\n",
    "\n",
    "from feature_format import featureFormat, targetFeatureSplit\n",
    "from tester import dump_classifier_and_data\n",
    "\n",
    "from feature_format import featureFormat, targetFeatureSplit\n",
    "from tester import dump_classifier_and_data\n",
    "\n",
    "### Task 1: Select what features you'll use.\n",
    "### features_list is a list of strings, each of which is a feature name.\n",
    "### The first feature must be \"poi\".\n",
    "financial_features= ['salary', \n",
    "                     'deferral_payments', \n",
    "                     'total_payments', \n",
    "                     'loan_advances', \n",
    "                     'bonus', \n",
    "                     'restricted_stock_deferred', \n",
    "                     'deferred_income', \n",
    "                     'total_stock_value', \n",
    "                     'expenses', \n",
    "                     'exercised_stock_options', \n",
    "                     'other', \n",
    "                     'long_term_incentive', \n",
    "                     'restricted_stock', \n",
    "                     'director_fees']\n",
    "email_features=['to_messages', \n",
    "                 'email_address', \n",
    "                 'from_poi_to_this_person', \n",
    "                 'from_messages', \n",
    "                 'from_this_person_to_poi', \n",
    "                 'shared_receipt_with_poi'] \n",
    " #(units are generally number of emails messages; notable exception is ‘email_address’, which is a text string)\n",
    "poi_label = ['poi']\n",
    "features_list = poi_label + email_features + financial_features\n",
    "#i have removed 'email_address' from features_list as it will only create noise\n",
    "features_list.remove('email_address')\n",
    "### Load the dictionary containing the dataset\n",
    "with open(\"final_project_dataset.pkl\", \"r\") as data_file:\n",
    "    data_dict = pickle.load(data_file)\n"
   ]
  },
  {
   "cell_type": "code",
   "execution_count": 2,
   "metadata": {},
   "outputs": [
    {
     "name": "stdout",
     "output_type": "stream",
     "text": [
      "Total number of data points: \n",
      "146\n",
      "total number of POI:\n",
      "18\n",
      "total number of non POI:\n",
      "128\n",
      "number of features used:\n",
      "20\n"
     ]
    }
   ],
   "source": [
    "### Task 2: Remove outliers\n",
    "#total number of data points\n",
    "print \"Total number of data points: \" \n",
    "print len(data_dict)\n",
    "#allocation across classes (POI/non-POI)\n",
    "poi = 0\n",
    "for name in data_dict:\n",
    "    if data_dict[name]['poi'] == True:\n",
    "        poi+=1\n",
    "print \"total number of POI:\"\n",
    "print poi\n",
    "print \"total number of non POI:\"\n",
    "print (len(data_dict)-poi)\n",
    "#number of features used\n",
    "print \"number of features used:\"\n",
    "print len(features_list)"
   ]
  },
  {
   "cell_type": "code",
   "execution_count": 3,
   "metadata": {},
   "outputs": [
    {
     "data": {
      "image/png": "[encoded data removed]",
      "text/plain": [
       "<matplotlib.figure.Figure at 0x4234550>"
      ]
     },
     "metadata": {},
     "output_type": "display_data"
    }
   ],
   "source": [
    "### Task 2: Remove outliers\n",
    "#Outlier Investigation\n",
    "#identifies outlier(s) in the financial data, and explains how they are removed or otherwise handled\n",
    "def plot_outlier(data_dict, feature_1, feature_2):\n",
    "    \n",
    "    data = featureFormat(data_dict, [feature_1, feature_2])\n",
    "    for point in data:\n",
    "        x = point[0]\n",
    "        y = point[1]\n",
    "        plt.scatter(x, y)\n",
    "\n",
    "    plt.xlabel(feature_1)\n",
    "    plt.ylabel(feature_2)\n",
    "    plt.show()\n",
    "\n",
    "plot_outlier(data_dict, 'total_payments', 'total_stock_value')"
   ]
  },
  {
   "cell_type": "code",
   "execution_count": 104,
   "metadata": {},
   "outputs": [
    {
     "data": {
      "image/png": "[encoded data removed]",
      "text/plain": [
       "<matplotlib.figure.Figure at 0xbfdc780>"
      ]
     },
     "metadata": {},
     "output_type": "display_data"
    },
    {
     "data": {
      "image/png": "[encoded data removed]",
      "text/plain": [
       "<matplotlib.figure.Figure at 0xbfdccf8>"
      ]
     },
     "metadata": {},
     "output_type": "display_data"
    },
    {
     "data": {
      "image/png": "[encoded data removed]",
      "text/plain": [
       "<matplotlib.figure.Figure at 0xd8650f0>"
      ]
     },
     "metadata": {},
     "output_type": "display_data"
    },
    {
     "data": {
      "image/png": "[encoded data removed]",
      "text/plain": [
       "<matplotlib.figure.Figure at 0xd3e52e8>"
      ]
     },
     "metadata": {},
     "output_type": "display_data"
    }
   ],
   "source": [
    "#Outlier Investigation\n",
    "plot_outlier(data_dict, 'salary', 'bonus')\n",
    "plot_outlier(data_dict, 'total_payments', 'other')\n",
    "plot_outlier(data_dict, 'from_poi_to_this_person', 'from_this_person_to_poi')\n",
    "plot_outlier(data_dict, 'salary', 'expenses')"
   ]
  },
  {
   "cell_type": "code",
   "execution_count": 38,
   "metadata": {},
   "outputs": [
    {
     "name": "stdout",
     "output_type": "stream",
     "text": [
      "Outlier:\n",
      "[('TOTAL', 309886585), ('LAY KENNETH L', 103559793), ('FREVERT MARK A', 17252530), ('BHATNAGAR SANJAY', 15456290), ('LAVORATO JOHN J', 10425757)]\n"
     ]
    }
   ],
   "source": [
    "#indentifing outlier\n",
    "identiting_outlier = []\n",
    "for emp in data_dict:\n",
    "    if data_dict[emp]['total_payments'] != \"NaN\":\n",
    "        identiting_outlier.append((emp, data_dict[emp]['total_payments']))\n",
    "print(\"Outlier:\")\n",
    "print(sorted(identiting_outlier, key = lambda x: x[1], reverse=True)[0:5])"
   ]
  },
  {
   "cell_type": "code",
   "execution_count": 7,
   "metadata": {},
   "outputs": [
    {
     "name": "stdout",
     "output_type": "stream",
     "text": [
      "Outlier:\n",
      "[('TOTAL', 97343619), ('LAVORATO JOHN J', 8000000), ('LAY KENNETH L', 7000000), ('SKILLING JEFFREY K', 5600000), ('BELDEN TIMOTHY N', 5249999)]\n"
     ]
    }
   ],
   "source": [
    "identiting_outlier = []\n",
    "for emp in data_dict:\n",
    "    if data_dict[emp]['bonus'] != \"NaN\":\n",
    "        identiting_outlier.append((emp, data_dict[emp]['bonus']))\n",
    "print(\"Outlier:\")\n",
    "print(sorted(identiting_outlier, key = lambda x: x[1], reverse=True)[0:5])"
   ]
  },
  {
   "cell_type": "code",
   "execution_count": 3,
   "metadata": {},
   "outputs": [
    {
     "name": "stdout",
     "output_type": "stream",
     "text": [
      "TOTAL :\n"
     ]
    },
    {
     "data": {
      "text/plain": [
       "{'bonus': 97343619,\n",
       " 'deferral_payments': 32083396,\n",
       " 'deferred_income': -27992891,\n",
       " 'director_fees': 1398517,\n",
       " 'email_address': 'NaN',\n",
       " 'exercised_stock_options': 311764000,\n",
       " 'expenses': 5235198,\n",
       " 'from_messages': 'NaN',\n",
       " 'from_poi_to_this_person': 'NaN',\n",
       " 'from_this_person_to_poi': 'NaN',\n",
       " 'loan_advances': 83925000,\n",
       " 'long_term_incentive': 48521928,\n",
       " 'other': 42667589,\n",
       " 'poi': False,\n",
       " 'restricted_stock': 130322299,\n",
       " 'restricted_stock_deferred': -7576788,\n",
       " 'salary': 26704229,\n",
       " 'shared_receipt_with_poi': 'NaN',\n",
       " 'to_messages': 'NaN',\n",
       " 'total_payments': 309886585,\n",
       " 'total_stock_value': 434509511}"
      ]
     },
     "execution_count": 3,
     "metadata": {},
     "output_type": "execute_result"
    }
   ],
   "source": [
    "# removing outlier\n",
    "#TOTAL  is the total value of financial \n",
    "print 'TOTAL :'\n",
    "data_dict.pop( \"TOTAL\", 0 )\n",
    "\n"
   ]
  },
  {
   "cell_type": "code",
   "execution_count": 3,
   "metadata": {},
   "outputs": [
    {
     "name": "stdout",
     "output_type": "stream",
     "text": [
      "total number of missing values for each feature: \n",
      "salary 51\n",
      "to_messages 59\n",
      "deferral_payments 107\n",
      "total_payments 21\n",
      "loan_advances 142\n",
      "bonus 64\n",
      "email_address 34\n",
      "restricted_stock_deferred 128\n",
      "total_stock_value 20\n",
      "shared_receipt_with_poi 59\n",
      "long_term_incentive 80\n",
      "exercised_stock_options 44\n",
      "from_messages 59\n",
      "other 53\n",
      "from_poi_to_this_person 59\n",
      "from_this_person_to_poi 59\n",
      "poi 0\n",
      "deferred_income 97\n",
      "expenses 51\n",
      "restricted_stock 36\n",
      "director_fees 129\n"
     ]
    }
   ],
   "source": [
    "#are there features with many missing values?\n",
    "missing_values = {}\n",
    "total_features = data_dict[data_dict.keys()[0]].keys()\n",
    "for feature in total_features:\n",
    "    missing_values[feature] = 0\n",
    "for emp in data_dict:\n",
    "    for feature in data_dict[emp]:\n",
    "        if data_dict[emp][feature] == \"NaN\":\n",
    "            missing_values[feature] += 1\n",
    "print(\"total number of missing values for each feature: \")\n",
    "for feature in missing_values:\n",
    "    print(feature + \" \" + str(missing_values[feature]))"
   ]
  },
  {
   "cell_type": "code",
   "execution_count": 4,
   "metadata": {},
   "outputs": [
    {
     "name": "stdout",
     "output_type": "stream",
     "text": [
      "['poi', 'to_messages', 'from_poi_to_this_person', 'from_messages', 'from_this_person_to_poi', 'shared_receipt_with_poi', 'salary', 'deferral_payments', 'total_payments', 'loan_advances', 'bonus', 'restricted_stock_deferred', 'deferred_income', 'total_stock_value', 'expenses', 'exercised_stock_options', 'other', 'long_term_incentive', 'restricted_stock', 'director_fees', 'fraction_msg_to_poi', 'fraction_msg_from_poi']\n"
     ]
    }
   ],
   "source": [
    "#adding 1st feature ie...fraction_msg_from_poi\n",
    "\n",
    "for emp in data_dict:\n",
    "    message_from_poi=data_dict[emp]['from_poi_to_this_person']\n",
    "    to_message =data_dict[emp]['to_messages']\n",
    "    if  to_message!='NaN' and message_from_poi!='NaN':\n",
    "        data_dict[emp]['fraction_msg_from_poi']=(message_from_poi*1.0)/(to_message*1.0)\n",
    "    else:\n",
    "        data_dict[emp]['fraction_msg_from_poi']=0\n",
    "#adding 1st feature ie...fraction_msg_to_poi\n",
    "for emp in data_dict:\n",
    "    message_to_poi=data_dict[emp]['from_this_person_to_poi']\n",
    "    from_message =data_dict[emp]['from_messages']\n",
    "    if  from_message!='NaN' and message_to_poi!='NaN':\n",
    "        data_dict[emp]['fraction_msg_to_poi']=(message_to_poi*1.0)/(from_message*1.0)\n",
    "    else:\n",
    "        data_dict[emp]['fraction_msg_to_poi']=0\n",
    "        \n",
    "updated_features_list=features_list+['fraction_msg_to_poi']+['fraction_msg_from_poi']\n",
    "print updated_features_list"
   ]
  },
  {
   "cell_type": "code",
   "execution_count": 5,
   "metadata": {
    "collapsed": true
   },
   "outputs": [],
   "source": [
    "# fill NaN values with zeros\n",
    "for emp in data_dict:\n",
    "    for f in data_dict[emp]:\n",
    "        if data_dict[emp][f] == 'NaN':\n",
    "            \n",
    "            data_dict[emp][f] = 0\n",
    "\n",
    "my_dataset = data_dict"
   ]
  },
  {
   "cell_type": "code",
   "execution_count": 6,
   "metadata": {
    "collapsed": true
   },
   "outputs": [],
   "source": [
    "### Extract features and labels from dataset for local testing\n",
    "my_dataset = data_dict\n",
    "data = featureFormat(my_dataset,updated_features_list, sort_keys = True)\n",
    "labels, features = targetFeatureSplit(data)"
   ]
  },
  {
   "cell_type": "code",
   "execution_count": 7,
   "metadata": {
    "collapsed": true
   },
   "outputs": [],
   "source": [
    "# we want to remove all features that are either one or zero (on or off) in more than 80% of the \n",
    "# samples using VarianceThreshold\n",
    "from sklearn.feature_selection import VarianceThreshold\n",
    "var = VarianceThreshold(threshold=(.8 * (1 - .8)))\n",
    "features = var.fit_transform(features)"
   ]
  },
  {
   "cell_type": "code",
   "execution_count": 8,
   "metadata": {},
   "outputs": [
    {
     "name": "stdout",
     "output_type": "stream",
     "text": [
      "SelectKBest scores features:\n",
      "[('exercised_stock_options', 25.097541528735491), ('total_stock_value', 24.467654047526398), ('bonus', 21.060001707536571), ('salary', 18.575703268041785), ('deferred_income', 11.595547659730601), ('long_term_incentive', 10.072454529369441), ('restricted_stock', 9.3467007910514877), ('total_payments', 8.8667215371077717), ('shared_receipt_with_poi', 8.7464855321290802), ('loan_advances', 7.2427303965360181), ('expenses', 6.2342011405067401), ('from_poi_to_this_person', 5.3449415231473374), ('other', 4.204970858301416), ('from_this_person_to_poi', 2.4265081272428781), ('director_fees', 2.1076559432760908), ('to_messages', 1.6988243485808501), ('deferral_payments', 0.2170589303395084), ('from_messages', 0.16416449823428736), ('restricted_stock_deferred', 0.06498431172371151)]\n"
     ]
    }
   ],
   "source": [
    "# intelligently select features (univariate feature selection)\n",
    "from sklearn.feature_selection import SelectKBest, f_classif\n",
    "selector = SelectKBest(f_classif, k = 8)\n",
    "selector.fit(features, labels)\n",
    "scores = zip(updated_features_list[1:], selector.scores_)\n",
    "scores_sorted= sorted(scores, key = lambda x: x[1], reverse = True)\n",
    "print 'SelectKBest scores features:'\n",
    "print scores_sorted"
   ]
  },
  {
   "cell_type": "code",
   "execution_count": 9,
   "metadata": {},
   "outputs": [
    {
     "name": "stdout",
     "output_type": "stream",
     "text": [
      "Revised features list\n",
      "['poi', 'exercised_stock_options', 'total_stock_value', 'bonus', 'salary', 'deferred_income', 'long_term_incentive', 'restricted_stock', 'total_payments']\n"
     ]
    }
   ],
   "source": [
    "revised_features_list = poi_label + [(i[0]) for i in scores_sorted[0:8]]\n",
    "print 'Revised features list'\n",
    "print revised_features_list"
   ]
  },
  {
   "cell_type": "code",
   "execution_count": 10,
   "metadata": {
    "collapsed": true
   },
   "outputs": [],
   "source": [
    "\n",
    "from sklearn import preprocessing\n",
    "data = featureFormat(my_dataset, revised_features_list, sort_keys = True)\n",
    "labels, features = targetFeatureSplit(data)\n",
    "scaler = preprocessing.MinMaxScaler()\n",
    "features = scaler.fit_transform(features)"
   ]
  },
  {
   "cell_type": "code",
   "execution_count": 11,
   "metadata": {},
   "outputs": [
    {
     "name": "stdout",
     "output_type": "stream",
     "text": [
      "NB accuracy:\n",
      "0.863636363636\n",
      "NB precision:\n",
      "0.4\n",
      "NB recall:\n",
      "0.4\n"
     ]
    }
   ],
   "source": [
    "### Task 4: Try a varity of classifiers\n",
    "### Please name your classifier clf for easy export below.\n",
    "### Note that if you want to do PCA or other multi-stage operations,\n",
    "### you'll need to use Pipelines. For more info:\n",
    "### http://scikit-learn.org/stable/modules/pipeline.html\n",
    "\n",
    "# Provided to give you a starting point. Try a variety of classifiers.\n",
    "from sklearn.naive_bayes import GaussianNB\n",
    "from sklearn.cross_validation import train_test_split\n",
    "from sklearn import cross_validation\n",
    "features_train, features_test, labels_train, labels_test = \\\n",
    "cross_validation.train_test_split(features, labels, test_size=0.3, random_state=42)\n",
    "\n",
    "from sklearn.metrics import accuracy_score\n",
    "from sklearn.metrics import recall_score\n",
    "from sklearn.metrics import precision_score\n",
    "# # Provided to give you a starting point. Try a variety of classifiers.\n",
    "\n",
    "from sklearn.naive_bayes import GaussianNB\n",
    "from time import time\n",
    "clf_nb = GaussianNB()\n",
    "clf_nb.fit(features_train,labels_train)\n",
    "pred = clf_nb.predict(features_test)\n",
    "nb_score = clf_nb.score(features_test,labels_test)\n",
    "nb_acc = accuracy_score(labels_test,pred)\n",
    "nb_pre = precision_score(labels_test,pred)\n",
    "nb_rec = recall_score(labels_test,pred)\n",
    "print \"NB accuracy:\"\n",
    "print nb_acc\n",
    "print \"NB precision:\"\n",
    "print nb_pre\n",
    "print \"NB recall:\"\n",
    "print nb_rec\n"
   ]
  },
  {
   "cell_type": "code",
   "execution_count": 11,
   "metadata": {},
   "outputs": [
    {
     "name": "stdout",
     "output_type": "stream",
     "text": [
      "RF accuracy: \n",
      "0.840909090909\n",
      "RF precision: \n",
      "0.25\n",
      "RF recall: \n",
      "0.2\n"
     ]
    }
   ],
   "source": [
    "from sklearn.ensemble import RandomForestClassifier\n",
    "rf_clf = RandomForestClassifier(n_estimators=10)\n",
    "rf_clf.fit(features_train, labels_train)\n",
    "pred = rf_clf.predict(features_test)\n",
    "rf_score = rf_clf.score(features_test,labels_test)\n",
    "rf_acc = accuracy_score(labels_test,pred)\n",
    "rf_pre = precision_score(labels_test,pred)\n",
    "rf_rec = recall_score(labels_test,pred)\n",
    "print \"RF accuracy: \"\n",
    "print rf_acc\n",
    "print \"RF precision: \"\n",
    "print rf_pre\n",
    "print \"RF recall: \"\n",
    "print rf_rec"
   ]
  },
  {
   "cell_type": "code",
   "execution_count": 12,
   "metadata": {},
   "outputs": [
    {
     "name": "stdout",
     "output_type": "stream",
     "text": [
      "DT accuracy: \n",
      "0.75\n",
      "DT precision: \n",
      "0.2\n",
      "DT recall:\n",
      "0.4\n"
     ]
    }
   ],
   "source": [
    "from sklearn import grid_search\n",
    "from sklearn import tree\n",
    "dt= tree.DecisionTreeClassifier()\n",
    "Decision_Tree_parameters = {'criterion':('gini','entropy'),\n",
    "'splitter':('best','random')}\n",
    "dt_clf = grid_search.GridSearchCV(dt,Decision_Tree_parameters)\n",
    "dt_clf.fit(features_train, labels_train)\n",
    "pred = dt_clf.predict(features_test)\n",
    "dt_score = dt_clf.score(features_test, labels_test)\n",
    "\n",
    "dt_acc = accuracy_score(labels_test, pred)\n",
    "dt_pre = precision_score(labels_test, pred)\n",
    "dt_rec = recall_score(labels_test, pred)\n",
    "print \"DT accuracy: \"\n",
    "print dt_acc\n",
    "print \"DT precision: \"\n",
    "print dt_pre\n",
    "print \"DT recall:\"\n",
    "print dt_rec"
   ]
  },
  {
   "cell_type": "code",
   "execution_count": 18,
   "metadata": {},
   "outputs": [
    {
     "name": "stdout",
     "output_type": "stream",
     "text": [
      "svm accuracy: 0.886363636364\n",
      "svm precision: 0.5\n",
      "svm recall: 0.2\n"
     ]
    }
   ],
   "source": [
    "from sklearn import grid_search\n",
    "from sklearn import svm\n",
    "svr = svm.SVC()\n",
    "svm_parameters = {'kernel':('linear','rbf','sigmoid'),\n",
    "'gamma': [1,0.1,0.01,],\n",
    "'C': [0.1,1,10,100,1000]}\n",
    "svr_clf = grid_search.GridSearchCV(svr, svm_parameters)\n",
    "svr_clf.fit(features_train, labels_train)\n",
    "pred = svr_clf.predict(features_test)\n",
    "svr_score = svr_clf.score(features_test, labels_test)\n",
    "svr_acc = accuracy_score(labels_test, pred)\n",
    "svr_pre = precision_score(labels_test, pred)\n",
    "svr_rec = recall_score(labels_test, pred)\n",
    "print \"svm accuracy:\", \n",
    "print svr_acc\n",
    "print \"svm precision:\", \n",
    "print svr_pre\n",
    "print \"svm recall:\", \n",
    "print svr_rec"
   ]
  },
  {
   "cell_type": "code",
   "execution_count": 15,
   "metadata": {
    "collapsed": true
   },
   "outputs": [],
   "source": [
    "### Task 5: Tune your classifier to achieve better than .3 precision and recall \n",
    "### using our testing script. Check the tester.py script in the final project\n",
    "### folder for details on the evaluation method, especially the test_classifier\n",
    "### function. Because of the small size of the dataset, the script uses\n",
    "### stratified shuffle split cross validation. For more info: \n",
    "### http://scikit-learn.org/stable/modules/generated/sklearn.cross_validation.StratifiedShuffleSplit.html\n",
    "\n",
    "# Example starting point. Try investigating other evaluation techniques!\n",
    "from sklearn.cross_validation import train_test_split\n",
    "features_train, features_test, labels_train, labels_test = \\\n",
    "    train_test_split(features, labels, test_size=0.3, random_state=42)\n",
    "    \n",
    "    \n",
    "from sklearn import naive_bayes\n",
    "clf = naive_bayes.GaussianNB()\n",
    "features_list = revised_features_list "
   ]
  },
  {
   "cell_type": "code",
   "execution_count": 16,
   "metadata": {
    "collapsed": true
   },
   "outputs": [],
   "source": [
    "### Task 6: Dump your classifier, dataset, and features_list so anyone can\n",
    "### check your results. You do not need to change anything below, but make sure\n",
    "### that the version of poi_id.py that you submit can be run on its own and\n",
    "### generates the necessary .pkl files for validating your results.\n",
    "\n",
    "dump_classifier_and_data(clf, my_dataset, features_list)"
   ]
  },
  {
   "cell_type": "code",
   "execution_count": null,
   "metadata": {
    "collapsed": true
   },
   "outputs": [],
   "source": [
    "\n"
   ]
  },
  {
   "cell_type": "code",
   "execution_count": null,
   "metadata": {
    "collapsed": true
   },
   "outputs": [],
   "source": []
  }
 ],
 "metadata": {
  "kernelspec": {
   "display_name": "Python 2",
   "language": "python",
   "name": "python2"
  },
  "language_info": {
   "codemirror_mode": {
    "name": "ipython",
    "version": 2
   },
   "file_extension": ".py",
   "mimetype": "text/x-python",
   "name": "python",
   "nbconvert_exporter": "python",
   "pygments_lexer": "ipython2",
   "version": "2.7.13"
  }
 },
 "nbformat": 4,
 "nbformat_minor": 2
}
